{
  "nbformat": 4,
  "nbformat_minor": 0,
  "metadata": {
    "colab": {
      "name": "Untitled1.ipynb",
      "provenance": [],
      "authorship_tag": "ABX9TyNRk1zfzYm24JVha8zfCOm4",
      "include_colab_link": true
    },
    "kernelspec": {
      "name": "python3",
      "display_name": "Python 3"
    },
    "language_info": {
      "name": "python"
    }
  },
  "cells": [
    {
      "cell_type": "markdown",
      "metadata": {
        "id": "view-in-github",
        "colab_type": "text"
      },
      "source": [
        "<a href=\"https://colab.research.google.com/github/omicsEye/deepStrain/blob/main/Notebooks/stacked_barplots.ipynb\" target=\"_parent\"><img src=\"https://colab.research.google.com/assets/colab-badge.svg\" alt=\"Open In Colab\"/></a>"
      ]
    },
    {
      "cell_type": "code",
      "execution_count": null,
      "metadata": {
        "id": "IEG-aVALaDeK"
      },
      "outputs": [],
      "source": [
        "import os\n",
        "import sys\n",
        "import re\n",
        "import numpy\n",
        "import time\n",
        "import argparse\n",
        "import pdb\n",
        "import pandas as pd\n",
        "\n",
        "import matplotlib\n",
        "matplotlib.use( \"Agg\" )\n",
        "import matplotlib.pyplot as plt\n",
        "from matplotlib import colors\n",
        "import matplotlib.patches as patches\n",
        "import numpy as np\n",
        "import scipy.cluster.hierarchy as sch"
      ]
    }
  ]
}